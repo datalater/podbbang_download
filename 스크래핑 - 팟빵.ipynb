{
 "cells": [
  {
   "cell_type": "code",
   "execution_count": 45,
   "metadata": {
    "collapsed": true
   },
   "outputs": [],
   "source": [
    "import requests\n",
    "from bs4 import BeautifulSoup\n",
    "from urllib.parse import urljoin\n",
    "from itertools import count\n",
    "from time import sleep"
   ]
  },
  {
   "cell_type": "code",
   "execution_count": 46,
   "metadata": {
    "collapsed": true
   },
   "outputs": [],
   "source": [
    "def get_list(pid):    \n",
    "    for page in count(1):\n",
    "        page_url = \"http://www.podbbang.com/podbbangchnew/episode_list\"\n",
    "        params = {'id':pid, 'page':page}\n",
    "        \n",
    "        print('page : {}'.format(page))\n",
    "\n",
    "        r = requests.get(page_url, params=params)\n",
    "        r.encoding = \"utf-8\"\n",
    "        html = r.text\n",
    "\n",
    "        soup = BeautifulSoup(html, 'lxml')\n",
    "\n",
    "        for li_tag in soup.select('li'):\n",
    "            try:\n",
    "                title = li_tag.find('dt')['title'].replace('\"','-')\n",
    "                link = urljoin(page_url, li_tag.find('a')['href'])\n",
    "                print(title, link)\n",
    "            except (TypeError, KeyError):\n",
    "                print(\"END\")\n",
    "                return None\n",
    "            else:\n",
    "                # 인증요구? Referer헤더, User-Agent헤더\n",
    "                \n",
    "                print(\"download link : {}\".format(link))\n",
    "\n",
    "                '''\n",
    "                headers = {'Referer': 'http://www.podbbang.com/ch/{pid}'.format(pid=pid)}\n",
    "                mp3_bin = requests.get(link, headers=headers).content\n",
    "\n",
    "                filename = '{}.mp3'.format(title)\n",
    "                with open(filename, 'wb') as f:\n",
    "                    f.write(mp3_bin)\n",
    "                '''\n",
    "            \n",
    "        sleep(0.5)\n",
    "        \n",
    "        break # 1페이지만 하고 종료"
   ]
  },
  {
   "cell_type": "code",
   "execution_count": 47,
   "metadata": {
    "collapsed": false
   },
   "outputs": [
    {
     "name": "stdout",
     "output_type": "stream",
     "text": [
      "page : 1\n",
      "66 플래너리 오코너 -좋은 사람은 찾기 힘들다- http://www.podbbang.com/download?pid=1749&eid=22224779\n",
      "download link : http://www.podbbang.com/download?pid=1749&eid=22224779\n",
      "65 최은영 -언니, 나의 작은, 순애 언니- http://www.podbbang.com/download?pid=1749&eid=22151910\n",
      "download link : http://www.podbbang.com/download?pid=1749&eid=22151910\n",
      "64 권여선 -이모- http://www.podbbang.com/download?pid=1749&eid=22103813\n",
      "download link : http://www.podbbang.com/download?pid=1749&eid=22103813\n",
      "63 아모스 오즈 -친구 사이- http://www.podbbang.com/download?pid=1749&eid=21985884\n",
      "download link : http://www.podbbang.com/download?pid=1749&eid=21985884\n",
      "62 올리버 색스 -아내를 모자로 착각한 남자- http://www.podbbang.com/download?pid=1749&eid=21907820\n",
      "download link : http://www.podbbang.com/download?pid=1749&eid=21907820\n",
      "61 안토니오 스카르메타 -네루다의 우편배달부- http://www.podbbang.com/download?pid=1749&eid=21802427\n",
      "download link : http://www.podbbang.com/download?pid=1749&eid=21802427\n",
      "60 -당신은 우리와 어울리지 않아- 퍼트리샤 하이스미스 http://www.podbbang.com/download?pid=1749&eid=21748855\n",
      "download link : http://www.podbbang.com/download?pid=1749&eid=21748855\n",
      "59 알베르 카뮈 -페스트- http://www.podbbang.com/download?pid=1749&eid=21695992\n",
      "download link : http://www.podbbang.com/download?pid=1749&eid=21695992\n",
      "58 버트런드 러셀 -게으름에 대한 찬양- http://www.podbbang.com/download?pid=1749&eid=21616051\n",
      "download link : http://www.podbbang.com/download?pid=1749&eid=21616051\n",
      "57 미즈무라 미나에 -본격소설- http://www.podbbang.com/download?pid=1749&eid=21547254\n",
      "download link : http://www.podbbang.com/download?pid=1749&eid=21547254\n"
     ]
    }
   ],
   "source": [
    "get_list(1749)"
   ]
  }
 ],
 "metadata": {
  "kernelspec": {
   "display_name": "Python 3",
   "language": "python",
   "name": "python3"
  },
  "language_info": {
   "codemirror_mode": {
    "name": "ipython",
    "version": 3
   },
   "file_extension": ".py",
   "mimetype": "text/x-python",
   "name": "python",
   "nbconvert_exporter": "python",
   "pygments_lexer": "ipython3",
   "version": "3.6.0"
  }
 },
 "nbformat": 4,
 "nbformat_minor": 2
}
